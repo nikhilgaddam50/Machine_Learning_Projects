{
 "cells": [
  {
   "cell_type": "code",
   "execution_count": 1,
   "id": "c859e166",
   "metadata": {},
   "outputs": [],
   "source": [
    "import numpy as np\n",
    "import pandas as pd\n",
    "import matplotlib.pyplot as plt\n",
    "import seaborn as sb\n",
    "import warnings\n",
    "warnings.filterwarnings('ignore')"
   ]
  },
  {
   "cell_type": "code",
   "execution_count": 2,
   "id": "b4530216",
   "metadata": {},
   "outputs": [
    {
     "data": {
      "text/html": [
       "<div>\n",
       "<style scoped>\n",
       "    .dataframe tbody tr th:only-of-type {\n",
       "        vertical-align: middle;\n",
       "    }\n",
       "\n",
       "    .dataframe tbody tr th {\n",
       "        vertical-align: top;\n",
       "    }\n",
       "\n",
       "    .dataframe thead th {\n",
       "        text-align: right;\n",
       "    }\n",
       "</style>\n",
       "<table border=\"1\" class=\"dataframe\">\n",
       "  <thead>\n",
       "    <tr style=\"text-align: right;\">\n",
       "      <th></th>\n",
       "      <th>Pregnancies</th>\n",
       "      <th>Glucose</th>\n",
       "      <th>BloodPressure</th>\n",
       "      <th>SkinThickness</th>\n",
       "      <th>Insulin</th>\n",
       "      <th>BMI</th>\n",
       "      <th>DiabetesPedigreeFunction</th>\n",
       "      <th>Age</th>\n",
       "      <th>Outcome</th>\n",
       "    </tr>\n",
       "  </thead>\n",
       "  <tbody>\n",
       "    <tr>\n",
       "      <th>0</th>\n",
       "      <td>2</td>\n",
       "      <td>138</td>\n",
       "      <td>62</td>\n",
       "      <td>35</td>\n",
       "      <td>0</td>\n",
       "      <td>33.6</td>\n",
       "      <td>0.127</td>\n",
       "      <td>47</td>\n",
       "      <td>1</td>\n",
       "    </tr>\n",
       "    <tr>\n",
       "      <th>1</th>\n",
       "      <td>0</td>\n",
       "      <td>84</td>\n",
       "      <td>82</td>\n",
       "      <td>31</td>\n",
       "      <td>125</td>\n",
       "      <td>38.2</td>\n",
       "      <td>0.233</td>\n",
       "      <td>23</td>\n",
       "      <td>0</td>\n",
       "    </tr>\n",
       "    <tr>\n",
       "      <th>2</th>\n",
       "      <td>0</td>\n",
       "      <td>145</td>\n",
       "      <td>0</td>\n",
       "      <td>0</td>\n",
       "      <td>0</td>\n",
       "      <td>44.2</td>\n",
       "      <td>0.630</td>\n",
       "      <td>31</td>\n",
       "      <td>1</td>\n",
       "    </tr>\n",
       "    <tr>\n",
       "      <th>3</th>\n",
       "      <td>0</td>\n",
       "      <td>135</td>\n",
       "      <td>68</td>\n",
       "      <td>42</td>\n",
       "      <td>250</td>\n",
       "      <td>42.3</td>\n",
       "      <td>0.365</td>\n",
       "      <td>24</td>\n",
       "      <td>1</td>\n",
       "    </tr>\n",
       "    <tr>\n",
       "      <th>4</th>\n",
       "      <td>1</td>\n",
       "      <td>139</td>\n",
       "      <td>62</td>\n",
       "      <td>41</td>\n",
       "      <td>480</td>\n",
       "      <td>40.7</td>\n",
       "      <td>0.536</td>\n",
       "      <td>21</td>\n",
       "      <td>0</td>\n",
       "    </tr>\n",
       "    <tr>\n",
       "      <th>...</th>\n",
       "      <td>...</td>\n",
       "      <td>...</td>\n",
       "      <td>...</td>\n",
       "      <td>...</td>\n",
       "      <td>...</td>\n",
       "      <td>...</td>\n",
       "      <td>...</td>\n",
       "      <td>...</td>\n",
       "      <td>...</td>\n",
       "    </tr>\n",
       "    <tr>\n",
       "      <th>1995</th>\n",
       "      <td>2</td>\n",
       "      <td>75</td>\n",
       "      <td>64</td>\n",
       "      <td>24</td>\n",
       "      <td>55</td>\n",
       "      <td>29.7</td>\n",
       "      <td>0.370</td>\n",
       "      <td>33</td>\n",
       "      <td>0</td>\n",
       "    </tr>\n",
       "    <tr>\n",
       "      <th>1996</th>\n",
       "      <td>8</td>\n",
       "      <td>179</td>\n",
       "      <td>72</td>\n",
       "      <td>42</td>\n",
       "      <td>130</td>\n",
       "      <td>32.7</td>\n",
       "      <td>0.719</td>\n",
       "      <td>36</td>\n",
       "      <td>1</td>\n",
       "    </tr>\n",
       "    <tr>\n",
       "      <th>1997</th>\n",
       "      <td>6</td>\n",
       "      <td>85</td>\n",
       "      <td>78</td>\n",
       "      <td>0</td>\n",
       "      <td>0</td>\n",
       "      <td>31.2</td>\n",
       "      <td>0.382</td>\n",
       "      <td>42</td>\n",
       "      <td>0</td>\n",
       "    </tr>\n",
       "    <tr>\n",
       "      <th>1998</th>\n",
       "      <td>0</td>\n",
       "      <td>129</td>\n",
       "      <td>110</td>\n",
       "      <td>46</td>\n",
       "      <td>130</td>\n",
       "      <td>67.1</td>\n",
       "      <td>0.319</td>\n",
       "      <td>26</td>\n",
       "      <td>1</td>\n",
       "    </tr>\n",
       "    <tr>\n",
       "      <th>1999</th>\n",
       "      <td>2</td>\n",
       "      <td>81</td>\n",
       "      <td>72</td>\n",
       "      <td>15</td>\n",
       "      <td>76</td>\n",
       "      <td>30.1</td>\n",
       "      <td>0.547</td>\n",
       "      <td>25</td>\n",
       "      <td>0</td>\n",
       "    </tr>\n",
       "  </tbody>\n",
       "</table>\n",
       "<p>2000 rows × 9 columns</p>\n",
       "</div>"
      ],
      "text/plain": [
       "      Pregnancies  Glucose  BloodPressure  SkinThickness  Insulin   BMI  \\\n",
       "0               2      138             62             35        0  33.6   \n",
       "1               0       84             82             31      125  38.2   \n",
       "2               0      145              0              0        0  44.2   \n",
       "3               0      135             68             42      250  42.3   \n",
       "4               1      139             62             41      480  40.7   \n",
       "...           ...      ...            ...            ...      ...   ...   \n",
       "1995            2       75             64             24       55  29.7   \n",
       "1996            8      179             72             42      130  32.7   \n",
       "1997            6       85             78              0        0  31.2   \n",
       "1998            0      129            110             46      130  67.1   \n",
       "1999            2       81             72             15       76  30.1   \n",
       "\n",
       "      DiabetesPedigreeFunction  Age  Outcome  \n",
       "0                        0.127   47        1  \n",
       "1                        0.233   23        0  \n",
       "2                        0.630   31        1  \n",
       "3                        0.365   24        1  \n",
       "4                        0.536   21        0  \n",
       "...                        ...  ...      ...  \n",
       "1995                     0.370   33        0  \n",
       "1996                     0.719   36        1  \n",
       "1997                     0.382   42        0  \n",
       "1998                     0.319   26        1  \n",
       "1999                     0.547   25        0  \n",
       "\n",
       "[2000 rows x 9 columns]"
      ]
     },
     "execution_count": 2,
     "metadata": {},
     "output_type": "execute_result"
    }
   ],
   "source": [
    "#to load data set\n",
    "df=pd.read_csv(\"kaggle_diabetes.csv\")\n",
    "df"
   ]
  },
  {
   "cell_type": "code",
   "execution_count": 3,
   "id": "00f133ba",
   "metadata": {},
   "outputs": [
    {
     "data": {
      "text/plain": [
       "Pregnancies                 0\n",
       "Glucose                     0\n",
       "BloodPressure               0\n",
       "SkinThickness               0\n",
       "Insulin                     0\n",
       "BMI                         0\n",
       "DiabetesPedigreeFunction    0\n",
       "Age                         0\n",
       "Outcome                     0\n",
       "dtype: int64"
      ]
     },
     "execution_count": 3,
     "metadata": {},
     "output_type": "execute_result"
    }
   ],
   "source": [
    "#to check null value\n",
    "df.isnull().sum()"
   ]
  },
  {
   "cell_type": "code",
   "execution_count": 4,
   "id": "c69dbb5c",
   "metadata": {},
   "outputs": [
    {
     "data": {
      "image/png": "[encoded data removed]",
      "text/plain": [
       "<Figure size 432x288 with 2 Axes>"
      ]
     },
     "metadata": {
      "needs_background": "light"
     },
     "output_type": "display_data"
    }
   ],
   "source": [
    "#by visualization null values\n",
    "sb.heatmap(df.isnull())\n",
    "plt.show()"
   ]
  },
  {
   "cell_type": "code",
   "execution_count": 5,
   "id": "aaa5b825",
   "metadata": {},
   "outputs": [
    {
     "data": {
      "text/plain": [
       "(2000, 9)"
      ]
     },
     "execution_count": 5,
     "metadata": {},
     "output_type": "execute_result"
    }
   ],
   "source": [
    "#to check how many rows and columns are there in this dataset\n",
    "df.shape"
   ]
  },
  {
   "cell_type": "code",
   "execution_count": 6,
   "id": "190543b4",
   "metadata": {},
   "outputs": [
    {
     "data": {
      "text/plain": [
       "0    1316\n",
       "1     684\n",
       "Name: Outcome, dtype: int64"
      ]
     },
     "execution_count": 6,
     "metadata": {},
     "output_type": "execute_result"
    }
   ],
   "source": [
    "#target variable how many 0's and 1's is there.\n",
    "df['Outcome'].value_counts()"
   ]
  },
  {
   "cell_type": "code",
   "execution_count": 7,
   "id": "2bde69a5",
   "metadata": {},
   "outputs": [],
   "source": [
    "#Clearly seen the data is balanced."
   ]
  },
  {
   "cell_type": "code",
   "execution_count": 8,
   "id": "47c951de",
   "metadata": {},
   "outputs": [
    {
     "data": {
      "text/plain": [
       "1256"
      ]
     },
     "execution_count": 8,
     "metadata": {},
     "output_type": "execute_result"
    }
   ],
   "source": [
    "#to check duplicated row\n",
    "df.duplicated().sum()"
   ]
  },
  {
   "cell_type": "code",
   "execution_count": 9,
   "id": "553b0deb",
   "metadata": {},
   "outputs": [],
   "source": [
    "df.drop_duplicates(inplace=True)"
   ]
  },
  {
   "cell_type": "code",
   "execution_count": 10,
   "id": "6ce642f4",
   "metadata": {},
   "outputs": [
    {
     "data": {
      "text/plain": [
       "0"
      ]
     },
     "execution_count": 10,
     "metadata": {},
     "output_type": "execute_result"
    }
   ],
   "source": [
    "#to check duplicated row\n",
    "df.duplicated().sum()"
   ]
  },
  {
   "cell_type": "code",
   "execution_count": 11,
   "id": "65d2999d",
   "metadata": {},
   "outputs": [
    {
     "data": {
      "text/plain": [
       "Pregnancies                   int64\n",
       "Glucose                       int64\n",
       "BloodPressure                 int64\n",
       "SkinThickness                 int64\n",
       "Insulin                       int64\n",
       "BMI                         float64\n",
       "DiabetesPedigreeFunction    float64\n",
       "Age                           int64\n",
       "Outcome                       int64\n",
       "dtype: object"
      ]
     },
     "execution_count": 11,
     "metadata": {},
     "output_type": "execute_result"
    }
   ],
   "source": [
    "df.dtypes"
   ]
  },
  {
   "cell_type": "code",
   "execution_count": 12,
   "id": "462b41ca",
   "metadata": {},
   "outputs": [],
   "source": [
    "#select input and output\n",
    "X=df.drop('Outcome',axis=1)#input\n",
    "Y=df['Outcome']#output"
   ]
  },
  {
   "cell_type": "code",
   "execution_count": 13,
   "id": "680ce3a2",
   "metadata": {},
   "outputs": [],
   "source": [
    "#train test split\n",
    "from sklearn.model_selection import train_test_split\n",
    "X_train,X_test,Y_train,Y_test=train_test_split(X,Y,test_size=0.3,random_state=1)"
   ]
  },
  {
   "cell_type": "code",
   "execution_count": 14,
   "id": "7f1c27d1",
   "metadata": {},
   "outputs": [],
   "source": [
    "#apply standard scaler on X_train and X_test\n",
    "from sklearn.preprocessing import StandardScaler\n",
    "#create object for StandardScaler class\n",
    "ss=StandardScaler()\n",
    "X_train=ss.fit_transform(X_train)\n",
    "X_test=ss.transform(X_test)"
   ]
  },
  {
   "cell_type": "code",
   "execution_count": 15,
   "id": "4f29bfe2",
   "metadata": {},
   "outputs": [
    {
     "data": {
      "text/plain": [
       "((520, 8), (520,))"
      ]
     },
     "execution_count": 15,
     "metadata": {},
     "output_type": "execute_result"
    }
   ],
   "source": [
    "X_train.shape,Y_train.shape"
   ]
  },
  {
   "cell_type": "code",
   "execution_count": 16,
   "id": "7bd2bbb5",
   "metadata": {},
   "outputs": [
    {
     "data": {
      "text/plain": [
       "((224, 8), (224,))"
      ]
     },
     "execution_count": 16,
     "metadata": {},
     "output_type": "execute_result"
    }
   ],
   "source": [
    "X_test.shape,Y_test.shape"
   ]
  },
  {
   "cell_type": "code",
   "execution_count": 17,
   "id": "8bae9829",
   "metadata": {},
   "outputs": [],
   "source": [
    "#create a  user defined function\n",
    "def create_model(model):#user defined fuction\n",
    "    #model user defined object which hold the object of algorithm\n",
    "    #first train the model with 70% data\n",
    "    model.fit(X_train,Y_train)\n",
    "    #then test the model with 30% data\n",
    "    Y_pred=model.predict(X_test)\n",
    "    #generate report\n",
    "    print(classification_report(Y_test,Y_pred))\n",
    "    print(confusion_matrix(Y_test,Y_pred))\n",
    "    return model"
   ]
  },
  {
   "cell_type": "code",
   "execution_count": 18,
   "id": "64abe2a4",
   "metadata": {},
   "outputs": [],
   "source": [
    "#call the class\n",
    "from sklearn.metrics import classification_report, confusion_matrix"
   ]
  },
  {
   "cell_type": "code",
   "execution_count": 19,
   "id": "9137c6d4",
   "metadata": {},
   "outputs": [],
   "source": [
    "#1.Apply Logistic Regression\n",
    "from sklearn.linear_model import LogisticRegression"
   ]
  },
  {
   "cell_type": "code",
   "execution_count": 20,
   "id": "17e6140d",
   "metadata": {},
   "outputs": [],
   "source": [
    "#create the object of   LogisticRegression class\n",
    "lr=LogisticRegression(random_state=1)"
   ]
  },
  {
   "cell_type": "code",
   "execution_count": 21,
   "id": "6b1fa559",
   "metadata": {},
   "outputs": [
    {
     "name": "stdout",
     "output_type": "stream",
     "text": [
      "              precision    recall  f1-score   support\n",
      "\n",
      "           0       0.83      0.87      0.85       154\n",
      "           1       0.68      0.60      0.64        70\n",
      "\n",
      "    accuracy                           0.79       224\n",
      "   macro avg       0.75      0.74      0.74       224\n",
      "weighted avg       0.78      0.79      0.78       224\n",
      "\n",
      "[[134  20]\n",
      " [ 28  42]]\n"
     ]
    }
   ],
   "source": [
    "#call function \n",
    "lr=create_model(lr)"
   ]
  },
  {
   "cell_type": "markdown",
   "id": "805b9929",
   "metadata": {},
   "source": [
    "### Here recall score in LogisticRegression is 60% good,but we can do more better."
   ]
  },
  {
   "cell_type": "code",
   "execution_count": 22,
   "id": "7d417849",
   "metadata": {},
   "outputs": [],
   "source": [
    "#2)Now,give data in the next classification algo. DecisionTreeClassifier\n",
    "from sklearn.tree import DecisionTreeClassifier"
   ]
  },
  {
   "cell_type": "code",
   "execution_count": 23,
   "id": "82477b2a",
   "metadata": {},
   "outputs": [],
   "source": [
    "#create the object DecisionTreeClassifier class with gini index\n",
    "dt=DecisionTreeClassifier(random_state=1)#by default gini index\n",
    "#if not mention"
   ]
  },
  {
   "cell_type": "code",
   "execution_count": 24,
   "id": "9f5d165f",
   "metadata": {},
   "outputs": [
    {
     "name": "stdout",
     "output_type": "stream",
     "text": [
      "              precision    recall  f1-score   support\n",
      "\n",
      "           0       0.76      0.68      0.72       154\n",
      "           1       0.42      0.51      0.46        70\n",
      "\n",
      "    accuracy                           0.63       224\n",
      "   macro avg       0.59      0.60      0.59       224\n",
      "weighted avg       0.65      0.63      0.64       224\n",
      "\n",
      "[[105  49]\n",
      " [ 34  36]]\n"
     ]
    }
   ],
   "source": [
    "#call function\n",
    "dt=create_model(dt)"
   ]
  },
  {
   "cell_type": "code",
   "execution_count": 25,
   "id": "8afa7d69",
   "metadata": {},
   "outputs": [
    {
     "data": {
      "text/html": [
       "<div>\n",
       "<style scoped>\n",
       "    .dataframe tbody tr th:only-of-type {\n",
       "        vertical-align: middle;\n",
       "    }\n",
       "\n",
       "    .dataframe tbody tr th {\n",
       "        vertical-align: top;\n",
       "    }\n",
       "\n",
       "    .dataframe thead th {\n",
       "        text-align: right;\n",
       "    }\n",
       "</style>\n",
       "<table border=\"1\" class=\"dataframe\">\n",
       "  <thead>\n",
       "    <tr style=\"text-align: right;\">\n",
       "      <th></th>\n",
       "      <th>input</th>\n",
       "      <th>Ig</th>\n",
       "    </tr>\n",
       "  </thead>\n",
       "  <tbody>\n",
       "    <tr>\n",
       "      <th>0</th>\n",
       "      <td>Glucose</td>\n",
       "      <td>0.302360</td>\n",
       "    </tr>\n",
       "    <tr>\n",
       "      <th>1</th>\n",
       "      <td>BMI</td>\n",
       "      <td>0.166217</td>\n",
       "    </tr>\n",
       "    <tr>\n",
       "      <th>2</th>\n",
       "      <td>DiabetesPedigreeFunction</td>\n",
       "      <td>0.165793</td>\n",
       "    </tr>\n",
       "    <tr>\n",
       "      <th>3</th>\n",
       "      <td>Age</td>\n",
       "      <td>0.142351</td>\n",
       "    </tr>\n",
       "    <tr>\n",
       "      <th>4</th>\n",
       "      <td>BloodPressure</td>\n",
       "      <td>0.077491</td>\n",
       "    </tr>\n",
       "    <tr>\n",
       "      <th>5</th>\n",
       "      <td>Pregnancies</td>\n",
       "      <td>0.069794</td>\n",
       "    </tr>\n",
       "    <tr>\n",
       "      <th>6</th>\n",
       "      <td>SkinThickness</td>\n",
       "      <td>0.045129</td>\n",
       "    </tr>\n",
       "    <tr>\n",
       "      <th>7</th>\n",
       "      <td>Insulin</td>\n",
       "      <td>0.030865</td>\n",
       "    </tr>\n",
       "  </tbody>\n",
       "</table>\n",
       "</div>"
      ],
      "text/plain": [
       "                      input        Ig\n",
       "0                   Glucose  0.302360\n",
       "1                       BMI  0.166217\n",
       "2  DiabetesPedigreeFunction  0.165793\n",
       "3                       Age  0.142351\n",
       "4             BloodPressure  0.077491\n",
       "5               Pregnancies  0.069794\n",
       "6             SkinThickness  0.045129\n",
       "7                   Insulin  0.030865"
      ]
     },
     "execution_count": 25,
     "metadata": {},
     "output_type": "execute_result"
    }
   ],
   "source": [
    "#CHECK INFORMATION GAIN :\n",
    "dict={'input':X.columns,'Ig':dt.feature_importances_}\n",
    "df1=pd.DataFrame(dict)\n",
    "#sorting in descendig value\n",
    "df1.sort_values('Ig',ascending=False,ignore_index=True)"
   ]
  },
  {
   "cell_type": "code",
   "execution_count": 26,
   "id": "b7cf8c92",
   "metadata": {},
   "outputs": [],
   "source": [
    "#But we got less score 0.51 % its good but not excellent , \n",
    "#region behind less score , overfit means \n",
    "#model is overfit so reduced the overfitting situation : - \n",
    "#then we use pruning technique \n",
    "\n",
    "#How to reduced a overfitting situation By using the Pruning technique : -\n",
    "#There are 2 types of pruning technique : -\n",
    "#1. max_depth : inbulit parameter of DecisionTreeClassifier class\n",
    "#2. min_samples_leaf  : inbuilt parameter of DecisionTreeClassifier class"
   ]
  },
  {
   "cell_type": "code",
   "execution_count": 27,
   "id": "e1210b50",
   "metadata": {},
   "outputs": [
    {
     "name": "stdout",
     "output_type": "stream",
     "text": [
      "              precision    recall  f1-score   support\n",
      "\n",
      "           0       0.88      0.68      0.76       154\n",
      "           1       0.53      0.80      0.64        70\n",
      "\n",
      "    accuracy                           0.71       224\n",
      "   macro avg       0.70      0.74      0.70       224\n",
      "weighted avg       0.77      0.71      0.72       224\n",
      "\n",
      "[[104  50]\n",
      " [ 14  56]]\n"
     ]
    }
   ],
   "source": [
    "#Pruning Technique : max_depth  : the value of max_depth cannot more than\n",
    "#8  (means <=8) \n",
    "#create object of DecisionTreeClassifier class with gini index and \n",
    "#use parameter max_depth (to remove overfitting)\n",
    "\"\"\"\n",
    "for i in range(1,9): #start=1 stop=9-1=8 step=+1\n",
    "    dt1=DecisionTreeClassifier(random_state=1,max_depth=i) #bydefault gini\n",
    "    print(\"max depth : \",i)\n",
    "    #call function \n",
    "    dt1=create_model(dt1)\n",
    "\"\"\"   \n",
    "dt1=DecisionTreeClassifier(random_state=1,max_depth=4) #bydefault gini\n",
    "#call function \n",
    "dt1=create_model(dt1)"
   ]
  },
  {
   "cell_type": "code",
   "execution_count": 28,
   "id": "88435709",
   "metadata": {},
   "outputs": [
    {
     "data": {
      "text/html": [
       "<div>\n",
       "<style scoped>\n",
       "    .dataframe tbody tr th:only-of-type {\n",
       "        vertical-align: middle;\n",
       "    }\n",
       "\n",
       "    .dataframe tbody tr th {\n",
       "        vertical-align: top;\n",
       "    }\n",
       "\n",
       "    .dataframe thead th {\n",
       "        text-align: right;\n",
       "    }\n",
       "</style>\n",
       "<table border=\"1\" class=\"dataframe\">\n",
       "  <thead>\n",
       "    <tr style=\"text-align: right;\">\n",
       "      <th></th>\n",
       "      <th>input</th>\n",
       "      <th>Ig</th>\n",
       "    </tr>\n",
       "  </thead>\n",
       "  <tbody>\n",
       "    <tr>\n",
       "      <th>0</th>\n",
       "      <td>Glucose</td>\n",
       "      <td>0.565596</td>\n",
       "    </tr>\n",
       "    <tr>\n",
       "      <th>1</th>\n",
       "      <td>BMI</td>\n",
       "      <td>0.209823</td>\n",
       "    </tr>\n",
       "    <tr>\n",
       "      <th>2</th>\n",
       "      <td>Age</td>\n",
       "      <td>0.140294</td>\n",
       "    </tr>\n",
       "    <tr>\n",
       "      <th>3</th>\n",
       "      <td>DiabetesPedigreeFunction</td>\n",
       "      <td>0.064486</td>\n",
       "    </tr>\n",
       "    <tr>\n",
       "      <th>4</th>\n",
       "      <td>Insulin</td>\n",
       "      <td>0.019802</td>\n",
       "    </tr>\n",
       "    <tr>\n",
       "      <th>5</th>\n",
       "      <td>Pregnancies</td>\n",
       "      <td>0.000000</td>\n",
       "    </tr>\n",
       "    <tr>\n",
       "      <th>6</th>\n",
       "      <td>BloodPressure</td>\n",
       "      <td>0.000000</td>\n",
       "    </tr>\n",
       "    <tr>\n",
       "      <th>7</th>\n",
       "      <td>SkinThickness</td>\n",
       "      <td>0.000000</td>\n",
       "    </tr>\n",
       "  </tbody>\n",
       "</table>\n",
       "</div>"
      ],
      "text/plain": [
       "                      input        Ig\n",
       "0                   Glucose  0.565596\n",
       "1                       BMI  0.209823\n",
       "2                       Age  0.140294\n",
       "3  DiabetesPedigreeFunction  0.064486\n",
       "4                   Insulin  0.019802\n",
       "5               Pregnancies  0.000000\n",
       "6             BloodPressure  0.000000\n",
       "7             SkinThickness  0.000000"
      ]
     },
     "execution_count": 28,
     "metadata": {},
     "output_type": "execute_result"
    }
   ],
   "source": [
    "#CHECK INFORMATION GAIN :\n",
    "dict={'input':X.columns,'Ig':dt1.feature_importances_}\n",
    "df1=pd.DataFrame(dict)\n",
    "#sorting in descendig value\n",
    "df1.sort_values('Ig',ascending=False,ignore_index=True)"
   ]
  },
  {
   "cell_type": "code",
   "execution_count": 29,
   "id": "f8ee4265",
   "metadata": {},
   "outputs": [],
   "source": [
    "#2.min_samples_leaf:inbuilt paramater of DecisionTreeClassifier class\n",
    "#leaf means no child:\n",
    "#min_samples_leaf >=45 and<=100"
   ]
  },
  {
   "cell_type": "code",
   "execution_count": 30,
   "id": "70735395",
   "metadata": {},
   "outputs": [
    {
     "name": "stdout",
     "output_type": "stream",
     "text": [
      "min_samples_leaf : 46\n",
      "              precision    recall  f1-score   support\n",
      "\n",
      "           0       0.85      0.78      0.81       154\n",
      "           1       0.59      0.69      0.63        70\n",
      "\n",
      "    accuracy                           0.75       224\n",
      "   macro avg       0.72      0.73      0.72       224\n",
      "weighted avg       0.76      0.75      0.75       224\n",
      "\n",
      "[[120  34]\n",
      " [ 22  48]]\n"
     ]
    }
   ],
   "source": [
    "#use 2nd pruning technique: min_samples_leaf inbult parameter of \n",
    "#DecisionTreeClasifier class:it is also used to remove overfitting\n",
    "#leaf mns no child:\n",
    "#create  object of DecisionTreeClasifier class\n",
    "\"\"\"\n",
    "for i in range(45,101,1): #i=45 i=47,.....\n",
    "    dt2=DecisionTreeClassifier(random_state=1,min_samples_leaf=i)\n",
    "    #by default gini index\n",
    "    print('min_samples_leaf :',i)\n",
    "    #call function\n",
    "    dt2=create_model(dt2)\n",
    "\"\"\"\n",
    "dt2=DecisionTreeClassifier(random_state=1,min_samples_leaf=46)\n",
    "    #by default gini index\n",
    "print('min_samples_leaf :',46)\n",
    "    #call function\n",
    "dt2=create_model(dt2)"
   ]
  },
  {
   "cell_type": "markdown",
   "id": "371335b1",
   "metadata": {},
   "source": [
    "### Here recall score: 0.80 mns 80% (DTC with gini index)"
   ]
  },
  {
   "cell_type": "code",
   "execution_count": 31,
   "id": "233a6c89",
   "metadata": {},
   "outputs": [],
   "source": [
    "#DecisionTreeClassifier with Entropy method\n",
    "#frst ceate an object of DecisionTreeClassifier class\n",
    "dt_entropy=DecisionTreeClassifier(random_state=1,criterion='entropy')\n",
    "#by default criterion='gini' if not given\n",
    "#formula: P*log(P)-Q*log(Q)\n"
   ]
  },
  {
   "cell_type": "code",
   "execution_count": 32,
   "id": "9b3338e7",
   "metadata": {},
   "outputs": [
    {
     "name": "stdout",
     "output_type": "stream",
     "text": [
      "              precision    recall  f1-score   support\n",
      "\n",
      "           0       0.80      0.82      0.81       154\n",
      "           1       0.58      0.54      0.56        70\n",
      "\n",
      "    accuracy                           0.74       224\n",
      "   macro avg       0.69      0.68      0.69       224\n",
      "weighted avg       0.73      0.74      0.73       224\n",
      "\n",
      "[[127  27]\n",
      " [ 32  38]]\n"
     ]
    }
   ],
   "source": [
    "#call function\n",
    "dt_entropy=create_model(dt_entropy)"
   ]
  },
  {
   "cell_type": "code",
   "execution_count": 33,
   "id": "d8cdc53a",
   "metadata": {},
   "outputs": [
    {
     "name": "stdout",
     "output_type": "stream",
     "text": [
      "max depth :  4\n",
      "              precision    recall  f1-score   support\n",
      "\n",
      "           0       0.88      0.69      0.78       154\n",
      "           1       0.54      0.79      0.64        70\n",
      "\n",
      "    accuracy                           0.72       224\n",
      "   macro avg       0.71      0.74      0.71       224\n",
      "weighted avg       0.77      0.72      0.73       224\n",
      "\n",
      "[[107  47]\n",
      " [ 15  55]]\n"
     ]
    }
   ],
   "source": [
    "#Pruning Technique : max_depth  : the value of max_depth cannot more than\n",
    "#8  (means <=8) \n",
    "#create object of DecisionTreeClassifier class with entropy index and \n",
    "#use parameter max_depth (to remove overfitting)\n",
    "\"\"\"\n",
    "\n",
    "for i in range(1,9): #start=1 stop=9-1=8 step=+1\n",
    "    dt_entropy=DecisionTreeClassifier(random_state=1,criterion='entropy',max_depth=i) #bydefault gini\n",
    "    print(\"max depth : \",i)\n",
    "    #call function \n",
    "    dt_entropy=create_model(dt_entropy)\n",
    "\"\"\"\n",
    "dt_entropy=DecisionTreeClassifier(random_state=1,criterion='entropy',max_depth=4) #bydefault gini\n",
    "print(\"max depth : \",4)\n",
    "    #call function \n",
    "dt_entropy=create_model(dt_entropy)"
   ]
  },
  {
   "cell_type": "code",
   "execution_count": 34,
   "id": "22bab719",
   "metadata": {},
   "outputs": [
    {
     "data": {
      "text/html": [
       "<div>\n",
       "<style scoped>\n",
       "    .dataframe tbody tr th:only-of-type {\n",
       "        vertical-align: middle;\n",
       "    }\n",
       "\n",
       "    .dataframe tbody tr th {\n",
       "        vertical-align: top;\n",
       "    }\n",
       "\n",
       "    .dataframe thead th {\n",
       "        text-align: right;\n",
       "    }\n",
       "</style>\n",
       "<table border=\"1\" class=\"dataframe\">\n",
       "  <thead>\n",
       "    <tr style=\"text-align: right;\">\n",
       "      <th></th>\n",
       "      <th>input</th>\n",
       "      <th>Ig</th>\n",
       "    </tr>\n",
       "  </thead>\n",
       "  <tbody>\n",
       "    <tr>\n",
       "      <th>0</th>\n",
       "      <td>Glucose</td>\n",
       "      <td>0.515251</td>\n",
       "    </tr>\n",
       "    <tr>\n",
       "      <th>1</th>\n",
       "      <td>BMI</td>\n",
       "      <td>0.261316</td>\n",
       "    </tr>\n",
       "    <tr>\n",
       "      <th>2</th>\n",
       "      <td>Age</td>\n",
       "      <td>0.092256</td>\n",
       "    </tr>\n",
       "    <tr>\n",
       "      <th>3</th>\n",
       "      <td>Insulin</td>\n",
       "      <td>0.044242</td>\n",
       "    </tr>\n",
       "    <tr>\n",
       "      <th>4</th>\n",
       "      <td>DiabetesPedigreeFunction</td>\n",
       "      <td>0.031642</td>\n",
       "    </tr>\n",
       "    <tr>\n",
       "      <th>5</th>\n",
       "      <td>SkinThickness</td>\n",
       "      <td>0.031006</td>\n",
       "    </tr>\n",
       "    <tr>\n",
       "      <th>6</th>\n",
       "      <td>Pregnancies</td>\n",
       "      <td>0.024288</td>\n",
       "    </tr>\n",
       "    <tr>\n",
       "      <th>7</th>\n",
       "      <td>BloodPressure</td>\n",
       "      <td>0.000000</td>\n",
       "    </tr>\n",
       "  </tbody>\n",
       "</table>\n",
       "</div>"
      ],
      "text/plain": [
       "                      input        Ig\n",
       "0                   Glucose  0.515251\n",
       "1                       BMI  0.261316\n",
       "2                       Age  0.092256\n",
       "3                   Insulin  0.044242\n",
       "4  DiabetesPedigreeFunction  0.031642\n",
       "5             SkinThickness  0.031006\n",
       "6               Pregnancies  0.024288\n",
       "7             BloodPressure  0.000000"
      ]
     },
     "execution_count": 34,
     "metadata": {},
     "output_type": "execute_result"
    }
   ],
   "source": [
    "#CHECK INFORMATION GAIN :\n",
    "dict={'input':X.columns,'Ig':dt_entropy.feature_importances_}\n",
    "df1=pd.DataFrame(dict)\n",
    "#sorting in descendig value\n",
    "df1.sort_values('Ig',ascending=False,ignore_index=True)"
   ]
  },
  {
   "cell_type": "code",
   "execution_count": 35,
   "id": "586a3a08",
   "metadata": {},
   "outputs": [],
   "source": [
    "#2.min_samples_leaf:inbuilt paramater of DecisionTreeClassifier class\n",
    "#leaf means no child:\n",
    "#min_samples_leaf >=45 and<=100"
   ]
  },
  {
   "cell_type": "code",
   "execution_count": 36,
   "id": "87d98413",
   "metadata": {},
   "outputs": [
    {
     "name": "stdout",
     "output_type": "stream",
     "text": [
      "min_samples_leaf : 61\n",
      "              precision    recall  f1-score   support\n",
      "\n",
      "           0       0.89      0.69      0.78       154\n",
      "           1       0.55      0.81      0.66        70\n",
      "\n",
      "    accuracy                           0.73       224\n",
      "   macro avg       0.72      0.75      0.72       224\n",
      "weighted avg       0.78      0.73      0.74       224\n",
      "\n",
      "[[107  47]\n",
      " [ 13  57]]\n"
     ]
    }
   ],
   "source": [
    "#use 2nd pruning technique: mi_samples_leaf inbult parameter of \n",
    "#DecisionTreeClasifier class:it is also used to remove overfitting\n",
    "#leaf mns no child:\n",
    "#create  object of DecisionTreeClasifier class\n",
    "\"\"\"\n",
    "for i in range(45,101,1): #i=45 i=47,.....\n",
    "    dt_entropy2=DecisionTreeClassifier(random_state=1,criterion='entropy',min_samples_leaf=i)\n",
    "    #by default gini index\n",
    "    print('min_samples_leaf :',i)\n",
    "    #call function\n",
    "    dt_entropy2=create_model(dt_entropy2)\n",
    "\"\"\"\n",
    "dt_entropy2=DecisionTreeClassifier(random_state=1,criterion='entropy',min_samples_leaf=61)\n",
    "    #by default gini index\n",
    "print('min_samples_leaf :',61)\n",
    "    #call function\n",
    "dt_entropy2=create_model(dt_entropy2)"
   ]
  },
  {
   "cell_type": "code",
   "execution_count": 37,
   "id": "3c0d5ff5",
   "metadata": {},
   "outputs": [
    {
     "data": {
      "text/html": [
       "<div>\n",
       "<style scoped>\n",
       "    .dataframe tbody tr th:only-of-type {\n",
       "        vertical-align: middle;\n",
       "    }\n",
       "\n",
       "    .dataframe tbody tr th {\n",
       "        vertical-align: top;\n",
       "    }\n",
       "\n",
       "    .dataframe thead th {\n",
       "        text-align: right;\n",
       "    }\n",
       "</style>\n",
       "<table border=\"1\" class=\"dataframe\">\n",
       "  <thead>\n",
       "    <tr style=\"text-align: right;\">\n",
       "      <th></th>\n",
       "      <th>input</th>\n",
       "      <th>Ig</th>\n",
       "    </tr>\n",
       "  </thead>\n",
       "  <tbody>\n",
       "    <tr>\n",
       "      <th>0</th>\n",
       "      <td>Glucose</td>\n",
       "      <td>0.623470</td>\n",
       "    </tr>\n",
       "    <tr>\n",
       "      <th>1</th>\n",
       "      <td>BMI</td>\n",
       "      <td>0.256600</td>\n",
       "    </tr>\n",
       "    <tr>\n",
       "      <th>2</th>\n",
       "      <td>Age</td>\n",
       "      <td>0.119931</td>\n",
       "    </tr>\n",
       "    <tr>\n",
       "      <th>3</th>\n",
       "      <td>Pregnancies</td>\n",
       "      <td>0.000000</td>\n",
       "    </tr>\n",
       "    <tr>\n",
       "      <th>4</th>\n",
       "      <td>BloodPressure</td>\n",
       "      <td>0.000000</td>\n",
       "    </tr>\n",
       "    <tr>\n",
       "      <th>5</th>\n",
       "      <td>SkinThickness</td>\n",
       "      <td>0.000000</td>\n",
       "    </tr>\n",
       "    <tr>\n",
       "      <th>6</th>\n",
       "      <td>Insulin</td>\n",
       "      <td>0.000000</td>\n",
       "    </tr>\n",
       "    <tr>\n",
       "      <th>7</th>\n",
       "      <td>DiabetesPedigreeFunction</td>\n",
       "      <td>0.000000</td>\n",
       "    </tr>\n",
       "  </tbody>\n",
       "</table>\n",
       "</div>"
      ],
      "text/plain": [
       "                      input        Ig\n",
       "0                   Glucose  0.623470\n",
       "1                       BMI  0.256600\n",
       "2                       Age  0.119931\n",
       "3               Pregnancies  0.000000\n",
       "4             BloodPressure  0.000000\n",
       "5             SkinThickness  0.000000\n",
       "6                   Insulin  0.000000\n",
       "7  DiabetesPedigreeFunction  0.000000"
      ]
     },
     "execution_count": 37,
     "metadata": {},
     "output_type": "execute_result"
    }
   ],
   "source": [
    "#CHECK INFORMATION GAIN :\n",
    "dict={'input':X.columns,'Ig':dt_entropy2.feature_importances_}\n",
    "df1=pd.DataFrame(dict)\n",
    "#sorting in descendig value\n",
    "df1.sort_values('Ig',ascending=False,ignore_index=True)"
   ]
  },
  {
   "cell_type": "markdown",
   "id": "ddb095b4",
   "metadata": {},
   "source": [
    "### Here recall score 81% (DTC with entropy) : in this dataset dtc with entropy is good as compared to gini index."
   ]
  },
  {
   "cell_type": "code",
   "execution_count": 38,
   "id": "3989c04b",
   "metadata": {},
   "outputs": [
    {
     "data": {
      "text/plain": [
       "'\\n1. Naive Aggregation \\na. Hard Voting      b. Soft voting\\n\\n2. Bootstrapping\\na. Bagging   b. pasting   c.Random Forest Tree\\n\\n3. Boosting Technique\\na. ADA Boost (Adaptor Boosting)  b. Gradient Boosting  c. Extreme Gradient Boosting(XG Boost)\\n\\n4. Stacking\\n'"
      ]
     },
     "execution_count": 38,
     "metadata": {},
     "output_type": "execute_result"
    }
   ],
   "source": [
    "#Apply Ensembling Technique : -\n",
    "#There are different types of Ensembling technique\n",
    "'''\n",
    "1. Naive Aggregation \n",
    "a. Hard Voting      b. Soft voting\n",
    "\n",
    "2. Bootstrapping\n",
    "a. Bagging   b. pasting   c.Random Forest Tree\n",
    "\n",
    "3. Boosting Technique\n",
    "a. ADA Boost (Adaptor Boosting)  b. Gradient Boosting  c. Extreme Gradient Boosting(XG Boost)\n",
    "\n",
    "4. Stacking\n",
    "'''"
   ]
  },
  {
   "cell_type": "code",
   "execution_count": 39,
   "id": "299d6ad4",
   "metadata": {},
   "outputs": [],
   "source": [
    "#apply random forest tree : it is bootstraping ensembling technique\n",
    "#it is work with bagging classifier bootstaping  ensembling technique\n",
    "#in random forest tree:train the dataset on multiple decision tree algo"
   ]
  },
  {
   "cell_type": "code",
   "execution_count": 40,
   "id": "e593fc11",
   "metadata": {},
   "outputs": [],
   "source": [
    "from sklearn.ensemble import RandomForestClassifier\n",
    "#ensemble means to train given dataset on multiple algorithms"
   ]
  },
  {
   "cell_type": "code",
   "execution_count": 41,
   "id": "4090c9cb",
   "metadata": {},
   "outputs": [],
   "source": [
    "#create the object for  RandomForestClassifier\n",
    "rfc=RandomForestClassifier(n_estimators=10,random_state=1)\n",
    "#here n_estimators means take how many no. of decisiontree"
   ]
  },
  {
   "cell_type": "code",
   "execution_count": 42,
   "id": "8fead062",
   "metadata": {},
   "outputs": [
    {
     "name": "stdout",
     "output_type": "stream",
     "text": [
      "              precision    recall  f1-score   support\n",
      "\n",
      "           0       0.82      0.85      0.84       154\n",
      "           1       0.65      0.60      0.62        70\n",
      "\n",
      "    accuracy                           0.77       224\n",
      "   macro avg       0.74      0.73      0.73       224\n",
      "weighted avg       0.77      0.77      0.77       224\n",
      "\n",
      "[[131  23]\n",
      " [ 28  42]]\n"
     ]
    }
   ],
   "source": [
    "#call function \n",
    "rfc=create_model(rfc)"
   ]
  },
  {
   "cell_type": "code",
   "execution_count": 43,
   "id": "4cbae8f2",
   "metadata": {},
   "outputs": [
    {
     "data": {
      "text/plain": [
       "'\"\\nfor i in range(10,101):\\n    rfc=RandomForestClassifier(n_estimators=i,random_state=1)\\n    print(\\'No. of decision tree\\', i)\\n    rfc=create_model(rfc)\\n'"
      ]
     },
     "execution_count": 43,
     "metadata": {},
     "output_type": "execute_result"
    }
   ],
   "source": [
    "\"\"\"\"\n",
    "for i in range(10,101):\n",
    "    rfc=RandomForestClassifier(n_estimators=i,random_state=1)\n",
    "    print('No. of decision tree', i)\n",
    "    rfc=create_model(rfc)\n",
    "\"\"\""
   ]
  },
  {
   "cell_type": "code",
   "execution_count": 44,
   "id": "c207fb1b",
   "metadata": {},
   "outputs": [
    {
     "name": "stdout",
     "output_type": "stream",
     "text": [
      "              precision    recall  f1-score   support\n",
      "\n",
      "           0       0.86      0.84      0.85       154\n",
      "           1       0.67      0.69      0.68        70\n",
      "\n",
      "    accuracy                           0.79       224\n",
      "   macro avg       0.76      0.76      0.76       224\n",
      "weighted avg       0.80      0.79      0.80       224\n",
      "\n",
      "[[130  24]\n",
      " [ 22  48]]\n"
     ]
    }
   ],
   "source": [
    "rfc=RandomForestClassifier(n_estimators=23,random_state=1)\n",
    "rfc=create_model(rfc)"
   ]
  },
  {
   "cell_type": "code",
   "execution_count": 45,
   "id": "6eb3b955",
   "metadata": {},
   "outputs": [
    {
     "data": {
      "text/html": [
       "<div>\n",
       "<style scoped>\n",
       "    .dataframe tbody tr th:only-of-type {\n",
       "        vertical-align: middle;\n",
       "    }\n",
       "\n",
       "    .dataframe tbody tr th {\n",
       "        vertical-align: top;\n",
       "    }\n",
       "\n",
       "    .dataframe thead th {\n",
       "        text-align: right;\n",
       "    }\n",
       "</style>\n",
       "<table border=\"1\" class=\"dataframe\">\n",
       "  <thead>\n",
       "    <tr style=\"text-align: right;\">\n",
       "      <th></th>\n",
       "      <th>Input</th>\n",
       "      <th>IG</th>\n",
       "    </tr>\n",
       "  </thead>\n",
       "  <tbody>\n",
       "    <tr>\n",
       "      <th>1</th>\n",
       "      <td>Glucose</td>\n",
       "      <td>0.232425</td>\n",
       "    </tr>\n",
       "    <tr>\n",
       "      <th>5</th>\n",
       "      <td>BMI</td>\n",
       "      <td>0.154675</td>\n",
       "    </tr>\n",
       "    <tr>\n",
       "      <th>6</th>\n",
       "      <td>DiabetesPedigreeFunction</td>\n",
       "      <td>0.150074</td>\n",
       "    </tr>\n",
       "    <tr>\n",
       "      <th>7</th>\n",
       "      <td>Age</td>\n",
       "      <td>0.142422</td>\n",
       "    </tr>\n",
       "    <tr>\n",
       "      <th>2</th>\n",
       "      <td>BloodPressure</td>\n",
       "      <td>0.092400</td>\n",
       "    </tr>\n",
       "    <tr>\n",
       "      <th>3</th>\n",
       "      <td>SkinThickness</td>\n",
       "      <td>0.079166</td>\n",
       "    </tr>\n",
       "    <tr>\n",
       "      <th>4</th>\n",
       "      <td>Insulin</td>\n",
       "      <td>0.075524</td>\n",
       "    </tr>\n",
       "    <tr>\n",
       "      <th>0</th>\n",
       "      <td>Pregnancies</td>\n",
       "      <td>0.073313</td>\n",
       "    </tr>\n",
       "  </tbody>\n",
       "</table>\n",
       "</div>"
      ],
      "text/plain": [
       "                      Input        IG\n",
       "1                   Glucose  0.232425\n",
       "5                       BMI  0.154675\n",
       "6  DiabetesPedigreeFunction  0.150074\n",
       "7                       Age  0.142422\n",
       "2             BloodPressure  0.092400\n",
       "3             SkinThickness  0.079166\n",
       "4                   Insulin  0.075524\n",
       "0               Pregnancies  0.073313"
      ]
     },
     "execution_count": 45,
     "metadata": {},
     "output_type": "execute_result"
    }
   ],
   "source": [
    "dict={'Input':X.columns,'IG':rfc.feature_importances_}\n",
    "df1=pd.DataFrame(dict)\n",
    "df1.sort_values('IG',ascending=False)"
   ]
  },
  {
   "cell_type": "code",
   "execution_count": 46,
   "id": "cf602837",
   "metadata": {},
   "outputs": [
    {
     "data": {
      "text/plain": [
       "'\"\\nfor i in range (1,9):\\n    rfc1=RandomForestClassifier(n_estimators=11,random_state=1,max_depth=i)\\n    print(\\'print max depth\\', i)\\n    rfc1=create_model(rfc1)\\n'"
      ]
     },
     "execution_count": 46,
     "metadata": {},
     "output_type": "execute_result"
    }
   ],
   "source": [
    "#apply purning tech max_depth\n",
    "\"\"\"\"\n",
    "for i in range (1,9):\n",
    "    rfc1=RandomForestClassifier(n_estimators=11,random_state=1,max_depth=i)\n",
    "    print('print max depth', i)\n",
    "    rfc1=create_model(rfc1)\n",
    "\"\"\""
   ]
  },
  {
   "cell_type": "code",
   "execution_count": 47,
   "id": "8cd1bd02",
   "metadata": {},
   "outputs": [
    {
     "name": "stdout",
     "output_type": "stream",
     "text": [
      "              precision    recall  f1-score   support\n",
      "\n",
      "           0       0.84      0.84      0.84       154\n",
      "           1       0.65      0.64      0.65        70\n",
      "\n",
      "    accuracy                           0.78       224\n",
      "   macro avg       0.75      0.74      0.74       224\n",
      "weighted avg       0.78      0.78      0.78       224\n",
      "\n",
      "[[130  24]\n",
      " [ 25  45]]\n"
     ]
    }
   ],
   "source": [
    "#apply purning tech max_depth \n",
    "rfc1=RandomForestClassifier(n_estimators=11,random_state=1,max_depth=4)\n",
    "rfc1=create_model(rfc1)"
   ]
  },
  {
   "cell_type": "code",
   "execution_count": 48,
   "id": "9296353b",
   "metadata": {},
   "outputs": [
    {
     "data": {
      "text/html": [
       "<div>\n",
       "<style scoped>\n",
       "    .dataframe tbody tr th:only-of-type {\n",
       "        vertical-align: middle;\n",
       "    }\n",
       "\n",
       "    .dataframe tbody tr th {\n",
       "        vertical-align: top;\n",
       "    }\n",
       "\n",
       "    .dataframe thead th {\n",
       "        text-align: right;\n",
       "    }\n",
       "</style>\n",
       "<table border=\"1\" class=\"dataframe\">\n",
       "  <thead>\n",
       "    <tr style=\"text-align: right;\">\n",
       "      <th></th>\n",
       "      <th>Input</th>\n",
       "      <th>IG</th>\n",
       "    </tr>\n",
       "  </thead>\n",
       "  <tbody>\n",
       "    <tr>\n",
       "      <th>1</th>\n",
       "      <td>Glucose</td>\n",
       "      <td>0.412804</td>\n",
       "    </tr>\n",
       "    <tr>\n",
       "      <th>7</th>\n",
       "      <td>Age</td>\n",
       "      <td>0.162195</td>\n",
       "    </tr>\n",
       "    <tr>\n",
       "      <th>5</th>\n",
       "      <td>BMI</td>\n",
       "      <td>0.143654</td>\n",
       "    </tr>\n",
       "    <tr>\n",
       "      <th>6</th>\n",
       "      <td>DiabetesPedigreeFunction</td>\n",
       "      <td>0.113624</td>\n",
       "    </tr>\n",
       "    <tr>\n",
       "      <th>4</th>\n",
       "      <td>Insulin</td>\n",
       "      <td>0.049561</td>\n",
       "    </tr>\n",
       "    <tr>\n",
       "      <th>3</th>\n",
       "      <td>SkinThickness</td>\n",
       "      <td>0.047807</td>\n",
       "    </tr>\n",
       "    <tr>\n",
       "      <th>0</th>\n",
       "      <td>Pregnancies</td>\n",
       "      <td>0.043812</td>\n",
       "    </tr>\n",
       "    <tr>\n",
       "      <th>2</th>\n",
       "      <td>BloodPressure</td>\n",
       "      <td>0.026542</td>\n",
       "    </tr>\n",
       "  </tbody>\n",
       "</table>\n",
       "</div>"
      ],
      "text/plain": [
       "                      Input        IG\n",
       "1                   Glucose  0.412804\n",
       "7                       Age  0.162195\n",
       "5                       BMI  0.143654\n",
       "6  DiabetesPedigreeFunction  0.113624\n",
       "4                   Insulin  0.049561\n",
       "3             SkinThickness  0.047807\n",
       "0               Pregnancies  0.043812\n",
       "2             BloodPressure  0.026542"
      ]
     },
     "execution_count": 48,
     "metadata": {},
     "output_type": "execute_result"
    }
   ],
   "source": [
    "dict={'Input':X.columns,'IG':rfc1.feature_importances_}\n",
    "df2=pd.DataFrame(dict)\n",
    "df2.sort_values('IG',ascending=False)"
   ]
  },
  {
   "cell_type": "markdown",
   "id": "639bca77",
   "metadata": {},
   "source": [
    "### Here recall score in randomforestclassifier is 64% good,but we can do more better."
   ]
  },
  {
   "cell_type": "code",
   "execution_count": 49,
   "id": "cf369afb",
   "metadata": {},
   "outputs": [],
   "source": [
    "#Apply ensemblim technique boosting\n",
    "#1. frst apply ADA Boost : call inbuilt class:AdaBoostClassifier\n",
    "from sklearn.ensemble import AdaBoostClassifier"
   ]
  },
  {
   "cell_type": "code",
   "execution_count": 50,
   "id": "70a9dfa9",
   "metadata": {},
   "outputs": [
    {
     "name": "stdout",
     "output_type": "stream",
     "text": [
      "              precision    recall  f1-score   support\n",
      "\n",
      "           0       0.81      0.85      0.83       154\n",
      "           1       0.63      0.56      0.59        70\n",
      "\n",
      "    accuracy                           0.76       224\n",
      "   macro avg       0.72      0.70      0.71       224\n",
      "weighted avg       0.75      0.76      0.75       224\n",
      "\n",
      "[[131  23]\n",
      " [ 31  39]]\n"
     ]
    }
   ],
   "source": [
    "#create the object of AdaBoostClassifier class:\n",
    "#ADA BOOOST creates decision stump (mns one root and 2 leaf node)\n",
    "#leaf node: no ay childs\n",
    "ada=AdaBoostClassifier(n_estimators=5,random_state=1)\n",
    "#n_estimators mns how many desision stump ,desision stump depend on no.of input\n",
    "#in case of our dataset,no. of features mns inputs =8\n",
    "#call function\n",
    "ada=create_model(ada)"
   ]
  },
  {
   "cell_type": "code",
   "execution_count": 51,
   "id": "79283e87",
   "metadata": {},
   "outputs": [
    {
     "data": {
      "text/plain": [
       "'\\nfor i in range(1,9):\\n    ada=AdaBoostClassifier(n_estimators=i,random_state=1)\\n    print(\"No. of Decision stump :\",i)\\n    #call function\\n    ada=create_model(ada)\\n'"
      ]
     },
     "execution_count": 51,
     "metadata": {},
     "output_type": "execute_result"
    }
   ],
   "source": [
    "\"\"\"\n",
    "for i in range(1,9):\n",
    "    ada=AdaBoostClassifier(n_estimators=i,random_state=1)\n",
    "    print(\"No. of Decision stump :\",i)\n",
    "    #call function\n",
    "    ada=create_model(ada)\n",
    "\"\"\""
   ]
  },
  {
   "cell_type": "code",
   "execution_count": 52,
   "id": "0cb66cda",
   "metadata": {},
   "outputs": [
    {
     "data": {
      "text/html": [
       "<div>\n",
       "<style scoped>\n",
       "    .dataframe tbody tr th:only-of-type {\n",
       "        vertical-align: middle;\n",
       "    }\n",
       "\n",
       "    .dataframe tbody tr th {\n",
       "        vertical-align: top;\n",
       "    }\n",
       "\n",
       "    .dataframe thead th {\n",
       "        text-align: right;\n",
       "    }\n",
       "</style>\n",
       "<table border=\"1\" class=\"dataframe\">\n",
       "  <thead>\n",
       "    <tr style=\"text-align: right;\">\n",
       "      <th></th>\n",
       "      <th>Input</th>\n",
       "      <th>IG</th>\n",
       "    </tr>\n",
       "  </thead>\n",
       "  <tbody>\n",
       "    <tr>\n",
       "      <th>1</th>\n",
       "      <td>Glucose</td>\n",
       "      <td>0.4</td>\n",
       "    </tr>\n",
       "    <tr>\n",
       "      <th>5</th>\n",
       "      <td>BMI</td>\n",
       "      <td>0.2</td>\n",
       "    </tr>\n",
       "    <tr>\n",
       "      <th>6</th>\n",
       "      <td>DiabetesPedigreeFunction</td>\n",
       "      <td>0.2</td>\n",
       "    </tr>\n",
       "    <tr>\n",
       "      <th>7</th>\n",
       "      <td>Age</td>\n",
       "      <td>0.2</td>\n",
       "    </tr>\n",
       "    <tr>\n",
       "      <th>0</th>\n",
       "      <td>Pregnancies</td>\n",
       "      <td>0.0</td>\n",
       "    </tr>\n",
       "    <tr>\n",
       "      <th>2</th>\n",
       "      <td>BloodPressure</td>\n",
       "      <td>0.0</td>\n",
       "    </tr>\n",
       "    <tr>\n",
       "      <th>3</th>\n",
       "      <td>SkinThickness</td>\n",
       "      <td>0.0</td>\n",
       "    </tr>\n",
       "    <tr>\n",
       "      <th>4</th>\n",
       "      <td>Insulin</td>\n",
       "      <td>0.0</td>\n",
       "    </tr>\n",
       "  </tbody>\n",
       "</table>\n",
       "</div>"
      ],
      "text/plain": [
       "                      Input   IG\n",
       "1                   Glucose  0.4\n",
       "5                       BMI  0.2\n",
       "6  DiabetesPedigreeFunction  0.2\n",
       "7                       Age  0.2\n",
       "0               Pregnancies  0.0\n",
       "2             BloodPressure  0.0\n",
       "3             SkinThickness  0.0\n",
       "4                   Insulin  0.0"
      ]
     },
     "execution_count": 52,
     "metadata": {},
     "output_type": "execute_result"
    }
   ],
   "source": [
    "#check important feature\n",
    "dict={'Input':X.columns,'IG':ada.feature_importances_}\n",
    "df1=pd.DataFrame(dict)\n",
    "df1.sort_values('IG',ascending=False)"
   ]
  },
  {
   "cell_type": "markdown",
   "id": "11583fde",
   "metadata": {},
   "source": [
    "### Here recall score of Adaboostclassifier is 56% it is  good,but we can do more better."
   ]
  },
  {
   "cell_type": "code",
   "execution_count": 53,
   "id": "1daf9907",
   "metadata": {},
   "outputs": [],
   "source": [
    "#2. Gradient Boosting(GB) : - \n",
    "#Its basically focus on short comings error  means fully grown tree \n",
    "#error means residual =actual output-predicted output\n",
    "\n",
    "#2. gradient Boost technuique : second tech. of Boosting Ensembling \n",
    "#technique \n",
    "# GB  : - its create a fully grown tree.this algorithm is focus on \n",
    "#short comings \n",
    "#short comings means error"
   ]
  },
  {
   "cell_type": "code",
   "execution_count": 54,
   "id": "b3d2c29c",
   "metadata": {},
   "outputs": [],
   "source": [
    "#call ibuilt class for Gradient Boosting: GradientBoostingClassifier\n",
    "from sklearn.ensemble import  GradientBoostingClassifier"
   ]
  },
  {
   "cell_type": "code",
   "execution_count": 55,
   "id": "fc9ba0ca",
   "metadata": {},
   "outputs": [
    {
     "name": "stdout",
     "output_type": "stream",
     "text": [
      "              precision    recall  f1-score   support\n",
      "\n",
      "           0       0.84      0.83      0.83       154\n",
      "           1       0.63      0.64      0.64        70\n",
      "\n",
      "    accuracy                           0.77       224\n",
      "   macro avg       0.74      0.74      0.74       224\n",
      "weighted avg       0.77      0.77      0.77       224\n",
      "\n",
      "[[128  26]\n",
      " [ 25  45]]\n"
     ]
    }
   ],
   "source": [
    "#create the object of gradientboostclassier class and passig the parameter n_estimators mns how many\n",
    "#iterations mns how many decisiontree use fit train the model\n",
    "gbc= GradientBoostingClassifier(n_estimators=75,random_state=1)\n",
    "#n_estimators>=10 and <=100\n",
    "#call function\n",
    "gbc=create_model(gbc)"
   ]
  },
  {
   "cell_type": "code",
   "execution_count": 56,
   "id": "204ac1ad",
   "metadata": {},
   "outputs": [
    {
     "data": {
      "text/plain": [
       "\"\\nfor i in range(10,101):\\n    #create the object of gradientboostclassier class\\n    gbc= GradientBoostingClassifier(n_estimators=i,random_state=1)\\n    print('No of estimators :',i)\\n    #call function\\n    gbc=create_model(gbc)\\n    \\n\""
      ]
     },
     "execution_count": 56,
     "metadata": {},
     "output_type": "execute_result"
    }
   ],
   "source": [
    "\"\"\"\n",
    "for i in range(10,101):\n",
    "    #create the object of gradientboostclassier class\n",
    "    gbc= GradientBoostingClassifier(n_estimators=i,random_state=1)\n",
    "    print('No of estimators :',i)\n",
    "    #call function\n",
    "    gbc=create_model(gbc)\n",
    "    \n",
    "\"\"\""
   ]
  },
  {
   "cell_type": "code",
   "execution_count": 57,
   "id": "3ef9af34",
   "metadata": {},
   "outputs": [
    {
     "data": {
      "text/html": [
       "<div>\n",
       "<style scoped>\n",
       "    .dataframe tbody tr th:only-of-type {\n",
       "        vertical-align: middle;\n",
       "    }\n",
       "\n",
       "    .dataframe tbody tr th {\n",
       "        vertical-align: top;\n",
       "    }\n",
       "\n",
       "    .dataframe thead th {\n",
       "        text-align: right;\n",
       "    }\n",
       "</style>\n",
       "<table border=\"1\" class=\"dataframe\">\n",
       "  <thead>\n",
       "    <tr style=\"text-align: right;\">\n",
       "      <th></th>\n",
       "      <th>Input</th>\n",
       "      <th>IG</th>\n",
       "    </tr>\n",
       "  </thead>\n",
       "  <tbody>\n",
       "    <tr>\n",
       "      <th>1</th>\n",
       "      <td>Glucose</td>\n",
       "      <td>0.371117</td>\n",
       "    </tr>\n",
       "    <tr>\n",
       "      <th>5</th>\n",
       "      <td>BMI</td>\n",
       "      <td>0.195792</td>\n",
       "    </tr>\n",
       "    <tr>\n",
       "      <th>6</th>\n",
       "      <td>DiabetesPedigreeFunction</td>\n",
       "      <td>0.143683</td>\n",
       "    </tr>\n",
       "    <tr>\n",
       "      <th>7</th>\n",
       "      <td>Age</td>\n",
       "      <td>0.142185</td>\n",
       "    </tr>\n",
       "    <tr>\n",
       "      <th>3</th>\n",
       "      <td>SkinThickness</td>\n",
       "      <td>0.039974</td>\n",
       "    </tr>\n",
       "    <tr>\n",
       "      <th>4</th>\n",
       "      <td>Insulin</td>\n",
       "      <td>0.037640</td>\n",
       "    </tr>\n",
       "    <tr>\n",
       "      <th>2</th>\n",
       "      <td>BloodPressure</td>\n",
       "      <td>0.036397</td>\n",
       "    </tr>\n",
       "    <tr>\n",
       "      <th>0</th>\n",
       "      <td>Pregnancies</td>\n",
       "      <td>0.033214</td>\n",
       "    </tr>\n",
       "  </tbody>\n",
       "</table>\n",
       "</div>"
      ],
      "text/plain": [
       "                      Input        IG\n",
       "1                   Glucose  0.371117\n",
       "5                       BMI  0.195792\n",
       "6  DiabetesPedigreeFunction  0.143683\n",
       "7                       Age  0.142185\n",
       "3             SkinThickness  0.039974\n",
       "4                   Insulin  0.037640\n",
       "2             BloodPressure  0.036397\n",
       "0               Pregnancies  0.033214"
      ]
     },
     "execution_count": 57,
     "metadata": {},
     "output_type": "execute_result"
    }
   ],
   "source": [
    "#check important feature(gradiet boosting)\n",
    "dict={'Input':X.columns,'IG':gbc.feature_importances_}\n",
    "df1=pd.DataFrame(dict)\n",
    "df1.sort_values('IG',ascending=False)"
   ]
  },
  {
   "cell_type": "markdown",
   "id": "1c146e56",
   "metadata": {},
   "source": [
    "### Here recall score of Gradientboostclassifier is 64% it is  good,but we can do more better."
   ]
  },
  {
   "cell_type": "code",
   "execution_count": 58,
   "id": "9f34773d",
   "metadata": {},
   "outputs": [],
   "source": [
    "#3. Extreame Gradient Boosting  : 3rd technique of Boosting \n",
    "#This is better version of gradient boosting . . short form XGB \n",
    "#why call better version of Gradient Boosting : -\n",
    "#1. XG Bossting use : - Multithreading technique\n",
    "#2. It takes less memory space and faster \n",
    "#3. It is very useful to handle huge amt of data .Its deal large amount of data\n",
    "#4. Its handle outlier because have inbuilt capability\n",
    "#5. Its handle null values \n",
    "#6. Its handle automatic overfitting situation ."
   ]
  },
  {
   "cell_type": "code",
   "execution_count": 59,
   "id": "f32f7657",
   "metadata": {},
   "outputs": [],
   "source": [
    "#call inbuilt class: XGBClassifier\n",
    "#frst tym install xgboost in system\n",
    "#!pip install xgboost"
   ]
  },
  {
   "cell_type": "code",
   "execution_count": 60,
   "id": "54ee18cc",
   "metadata": {},
   "outputs": [],
   "source": [
    "from xgboost import XGBClassifier\n",
    "#here  XGBClassifier is a inbuilt class which define in package xgboost"
   ]
  },
  {
   "cell_type": "code",
   "execution_count": 61,
   "id": "8561defc",
   "metadata": {},
   "outputs": [
    {
     "name": "stdout",
     "output_type": "stream",
     "text": [
      "              precision    recall  f1-score   support\n",
      "\n",
      "           0       0.84      0.82      0.83       154\n",
      "           1       0.62      0.66      0.64        70\n",
      "\n",
      "    accuracy                           0.77       224\n",
      "   macro avg       0.73      0.74      0.73       224\n",
      "weighted avg       0.77      0.77      0.77       224\n",
      "\n",
      "[[126  28]\n",
      " [ 24  46]]\n"
     ]
    }
   ],
   "source": [
    "#create object of  XGBClassifier class\n",
    "xgc= XGBClassifier(n_estimators=10 ,reg_alpha=1,random_state=1)\n",
    "#reg mns regularization and alpha mns lambda mns hyperparamter\n",
    "#if reg_alpha=1 ,1 mns true mns automatic handle oulier and overfitting\n",
    "#call function\n",
    "xgc=create_model(xgc)"
   ]
  },
  {
   "cell_type": "code",
   "execution_count": 62,
   "id": "ee9ca416",
   "metadata": {},
   "outputs": [
    {
     "data": {
      "text/plain": [
       "\"\\nfor i in range(10,101):\\n    #create the object of XGBclassier class\\n    xgc=  XGBClassifier(n_estimators=i,random_state=1)\\n    print('No of estimators :',i)\\n    #call function\\n    xgc=create_model(gbc)\\n\""
      ]
     },
     "execution_count": 62,
     "metadata": {},
     "output_type": "execute_result"
    }
   ],
   "source": [
    "\"\"\"\n",
    "for i in range(10,101):\n",
    "    #create the object of XGBclassier class\n",
    "    xgc=  XGBClassifier(n_estimators=i,random_state=1)\n",
    "    print('No of estimators :',i)\n",
    "    #call function\n",
    "    xgc=create_model(gbc)\n",
    "\"\"\""
   ]
  },
  {
   "cell_type": "code",
   "execution_count": 63,
   "id": "fcfb504b",
   "metadata": {},
   "outputs": [
    {
     "data": {
      "text/html": [
       "<div>\n",
       "<style scoped>\n",
       "    .dataframe tbody tr th:only-of-type {\n",
       "        vertical-align: middle;\n",
       "    }\n",
       "\n",
       "    .dataframe tbody tr th {\n",
       "        vertical-align: top;\n",
       "    }\n",
       "\n",
       "    .dataframe thead th {\n",
       "        text-align: right;\n",
       "    }\n",
       "</style>\n",
       "<table border=\"1\" class=\"dataframe\">\n",
       "  <thead>\n",
       "    <tr style=\"text-align: right;\">\n",
       "      <th></th>\n",
       "      <th>Input</th>\n",
       "      <th>IG</th>\n",
       "    </tr>\n",
       "  </thead>\n",
       "  <tbody>\n",
       "    <tr>\n",
       "      <th>1</th>\n",
       "      <td>Glucose</td>\n",
       "      <td>0.308863</td>\n",
       "    </tr>\n",
       "    <tr>\n",
       "      <th>5</th>\n",
       "      <td>BMI</td>\n",
       "      <td>0.168419</td>\n",
       "    </tr>\n",
       "    <tr>\n",
       "      <th>7</th>\n",
       "      <td>Age</td>\n",
       "      <td>0.160044</td>\n",
       "    </tr>\n",
       "    <tr>\n",
       "      <th>6</th>\n",
       "      <td>DiabetesPedigreeFunction</td>\n",
       "      <td>0.105297</td>\n",
       "    </tr>\n",
       "    <tr>\n",
       "      <th>3</th>\n",
       "      <td>SkinThickness</td>\n",
       "      <td>0.090311</td>\n",
       "    </tr>\n",
       "    <tr>\n",
       "      <th>4</th>\n",
       "      <td>Insulin</td>\n",
       "      <td>0.068442</td>\n",
       "    </tr>\n",
       "    <tr>\n",
       "      <th>2</th>\n",
       "      <td>BloodPressure</td>\n",
       "      <td>0.051784</td>\n",
       "    </tr>\n",
       "    <tr>\n",
       "      <th>0</th>\n",
       "      <td>Pregnancies</td>\n",
       "      <td>0.046840</td>\n",
       "    </tr>\n",
       "  </tbody>\n",
       "</table>\n",
       "</div>"
      ],
      "text/plain": [
       "                      Input        IG\n",
       "1                   Glucose  0.308863\n",
       "5                       BMI  0.168419\n",
       "7                       Age  0.160044\n",
       "6  DiabetesPedigreeFunction  0.105297\n",
       "3             SkinThickness  0.090311\n",
       "4                   Insulin  0.068442\n",
       "2             BloodPressure  0.051784\n",
       "0               Pregnancies  0.046840"
      ]
     },
     "execution_count": 63,
     "metadata": {},
     "output_type": "execute_result"
    }
   ],
   "source": [
    "#check important feature(XGB)\n",
    "dict={'Input':X.columns,'IG':xgc.feature_importances_}\n",
    "df2=pd.DataFrame(dict)\n",
    "df2.sort_values('IG',ascending=False)"
   ]
  },
  {
   "cell_type": "markdown",
   "id": "53b8d7e1",
   "metadata": {},
   "source": [
    "### `Here recall score of XGBClassifier is 66% it is  good,but we can do more better."
   ]
  },
  {
   "cell_type": "code",
   "execution_count": 64,
   "id": "1e99d211",
   "metadata": {},
   "outputs": [],
   "source": [
    "#Given data in Support vetcor machine\n",
    "#1;Linear kernel function of SVM:\n",
    "#mns suppose data are linear seperatable with the help of straight line\n",
    "#call inbuilt classfor linear svm: LinearSVC\n",
    "#SVC mns support vector classifier     "
   ]
  },
  {
   "cell_type": "code",
   "execution_count": 65,
   "id": "b9254dbb",
   "metadata": {},
   "outputs": [],
   "source": [
    "from sklearn.svm import LinearSVC"
   ]
  },
  {
   "cell_type": "code",
   "execution_count": 66,
   "id": "50c75a94",
   "metadata": {},
   "outputs": [],
   "source": [
    "#create the object of LinearSVC class\n",
    "svc=LinearSVC(random_state=1)#no add any error  mns supoose no outlier\n",
    "#in our dataset mns it is hard margin"
   ]
  },
  {
   "cell_type": "code",
   "execution_count": 67,
   "id": "d1d5ad9d",
   "metadata": {},
   "outputs": [
    {
     "name": "stdout",
     "output_type": "stream",
     "text": [
      "              precision    recall  f1-score   support\n",
      "\n",
      "           0       0.82      0.88      0.85       154\n",
      "           1       0.69      0.57      0.62        70\n",
      "\n",
      "    accuracy                           0.79       224\n",
      "   macro avg       0.75      0.73      0.74       224\n",
      "weighted avg       0.78      0.79      0.78       224\n",
      "\n",
      "[[136  18]\n",
      " [ 30  40]]\n"
     ]
    }
   ],
   "source": [
    "#call function\n",
    "svc=create_model(svc)"
   ]
  },
  {
   "cell_type": "code",
   "execution_count": 68,
   "id": "a368964b",
   "metadata": {},
   "outputs": [],
   "source": [
    "#got recall for 1 : 57% means it is good but not best . \n",
    "#suppose outlier in our dataset means model overfitted \n",
    "#so reduce the overfit of model or remove outlier from given dataset ,\n",
    "#add some external error during training error means soft margin\n",
    "#Means again create the object of class LinearSVC  and passing parameter\n",
    "#C means error parameter , the value of C can be <=1\n",
    "svc1=LinearSVC(random_state=1,C=0.9)#soft margin"
   ]
  },
  {
   "cell_type": "code",
   "execution_count": 69,
   "id": "05d7f2de",
   "metadata": {},
   "outputs": [
    {
     "name": "stdout",
     "output_type": "stream",
     "text": [
      "              precision    recall  f1-score   support\n",
      "\n",
      "           0       0.82      0.88      0.85       154\n",
      "           1       0.69      0.57      0.62        70\n",
      "\n",
      "    accuracy                           0.79       224\n",
      "   macro avg       0.75      0.73      0.74       224\n",
      "weighted avg       0.78      0.79      0.78       224\n",
      "\n",
      "[[136  18]\n",
      " [ 30  40]]\n"
     ]
    }
   ],
   "source": [
    "#call function\n",
    "svc1=create_model(svc1)"
   ]
  },
  {
   "cell_type": "code",
   "execution_count": 70,
   "id": "f4e563fc",
   "metadata": {},
   "outputs": [],
   "source": [
    "#if add error on training time but no changed the accuracy means \n",
    "#given dataset is non -linear , Now  dataset will give to kernel function\n",
    "#first give data to polynomial kernel function\n",
    "#purpose of kernel function : to increase the dimension means to change the \n",
    "#low dimension into high dimension\n",
    "#use inbilt clas SVC:support vector classifier: use for non-linear data\n",
    "#there are use 2 types of algorithm for Non-linear data\n",
    "#1.Polynomial kernel function\n",
    "#2.radial basis  kernel function\n",
    "\n",
    "#call inbuilt class SVC\n",
    "from sklearn.svm import SVC"
   ]
  },
  {
   "cell_type": "code",
   "execution_count": 71,
   "id": "75fc79c0",
   "metadata": {},
   "outputs": [],
   "source": [
    "#create the object of SVC class(use polynomial)\n",
    "poly_svc=SVC(random_state=1,kernel='poly')"
   ]
  },
  {
   "cell_type": "code",
   "execution_count": 72,
   "id": "95e44f2a",
   "metadata": {},
   "outputs": [
    {
     "name": "stdout",
     "output_type": "stream",
     "text": [
      "              precision    recall  f1-score   support\n",
      "\n",
      "           0       0.79      0.96      0.87       154\n",
      "           1       0.83      0.43      0.57        70\n",
      "\n",
      "    accuracy                           0.79       224\n",
      "   macro avg       0.81      0.69      0.72       224\n",
      "weighted avg       0.80      0.79      0.77       224\n",
      "\n",
      "[[148   6]\n",
      " [ 40  30]]\n"
     ]
    }
   ],
   "source": [
    "#call function\n",
    "poly_svc=create_model(poly_svc)"
   ]
  },
  {
   "cell_type": "code",
   "execution_count": 73,
   "id": "4750d90c",
   "metadata": {},
   "outputs": [],
   "source": [
    "#clearly,given dataset is non-linear ,bcoz recall decreases from 0.57 to 0.43.\n",
    "#0.43 is not good score but can do more better,\n",
    "#apply radial basis kernel function mns give dataset to radial basis kernel function\n",
    "#create object of SVC class and passing the value of kernel function =rbf\n",
    "#rbf mns radial basis function"
   ]
  },
  {
   "cell_type": "code",
   "execution_count": 74,
   "id": "c4242c3e",
   "metadata": {},
   "outputs": [],
   "source": [
    "#create the object of SVC class(use radial)\n",
    "rbf_svc=SVC(random_state=1,kernel='rbf')"
   ]
  },
  {
   "cell_type": "code",
   "execution_count": 75,
   "id": "503df4a6",
   "metadata": {},
   "outputs": [
    {
     "name": "stdout",
     "output_type": "stream",
     "text": [
      "              precision    recall  f1-score   support\n",
      "\n",
      "           0       0.83      0.87      0.85       154\n",
      "           1       0.68      0.60      0.64        70\n",
      "\n",
      "    accuracy                           0.79       224\n",
      "   macro avg       0.75      0.74      0.74       224\n",
      "weighted avg       0.78      0.79      0.78       224\n",
      "\n",
      "[[134  20]\n",
      " [ 28  42]]\n"
     ]
    }
   ],
   "source": [
    "#call function\n",
    "rbf_svc=create_model(rbf_svc)"
   ]
  },
  {
   "cell_type": "markdown",
   "id": "70b8c03b",
   "metadata": {},
   "source": [
    "### In (SVM) Radial basis kernel function: got 60% recall score"
   ]
  },
  {
   "cell_type": "code",
   "execution_count": 76,
   "id": "5dd441d8",
   "metadata": {},
   "outputs": [],
   "source": [
    "#Apply KNN Algorithm: inbuilt class KNeighborsClassifier which define in outer class neighbors and \n",
    "#outer class define in package sklearn\n",
    "#n_neighbors value(1,3,5,7,9) but always take 5 but if increases score then take value 7,9\n",
    "from sklearn.neighbors import KNeighborsClassifier"
   ]
  },
  {
   "cell_type": "code",
   "execution_count": 77,
   "id": "f05a913f",
   "metadata": {},
   "outputs": [],
   "source": [
    "#create the object of  KNeighborsClassifier class and passing some parameter\n",
    "knc=KNeighborsClassifier(n_neighbors=7,metric='minkowski',p=2)"
   ]
  },
  {
   "cell_type": "code",
   "execution_count": 78,
   "id": "2d87358d",
   "metadata": {},
   "outputs": [
    {
     "name": "stdout",
     "output_type": "stream",
     "text": [
      "              precision    recall  f1-score   support\n",
      "\n",
      "           0       0.81      0.83      0.82       154\n",
      "           1       0.61      0.57      0.59        70\n",
      "\n",
      "    accuracy                           0.75       224\n",
      "   macro avg       0.71      0.70      0.70       224\n",
      "weighted avg       0.75      0.75      0.75       224\n",
      "\n",
      "[[128  26]\n",
      " [ 30  40]]\n"
     ]
    }
   ],
   "source": [
    "#call function\n",
    "knc=create_model(knc)"
   ]
  },
  {
   "cell_type": "markdown",
   "id": "7d7dfea0",
   "metadata": {},
   "source": [
    "### Here recall score of SVM is 57% it is not so good,but we can do more better."
   ]
  },
  {
   "cell_type": "code",
   "execution_count": 79,
   "id": "2259ba73",
   "metadata": {},
   "outputs": [],
   "source": [
    "#Apply KNN Algorithm: inbuilt class KNeighborsClassifier which define in outer class neighbors and \n",
    "#outer class define in package sklearn\n",
    "#n_neighbors value(1,3,5,7,9) but always take 5 but if increases score then take value 7,9\n",
    "from sklearn.neighbors import KNeighborsClassifier"
   ]
  },
  {
   "cell_type": "code",
   "execution_count": 80,
   "id": "d793cbc9",
   "metadata": {},
   "outputs": [],
   "source": [
    "#create the object of  KNeighborsClassifier class and passing some parameter\n",
    "knc=KNeighborsClassifier(n_neighbors=5,metric='minkowski',p=2)"
   ]
  },
  {
   "cell_type": "code",
   "execution_count": 81,
   "id": "c72dd8c3",
   "metadata": {},
   "outputs": [
    {
     "name": "stdout",
     "output_type": "stream",
     "text": [
      "              precision    recall  f1-score   support\n",
      "\n",
      "           0       0.81      0.84      0.83       154\n",
      "           1       0.62      0.56      0.59        70\n",
      "\n",
      "    accuracy                           0.75       224\n",
      "   macro avg       0.71      0.70      0.71       224\n",
      "weighted avg       0.75      0.75      0.75       224\n",
      "\n",
      "[[130  24]\n",
      " [ 31  39]]\n"
     ]
    }
   ],
   "source": [
    "#call function\n",
    "knc=create_model(knc)"
   ]
  },
  {
   "cell_type": "markdown",
   "id": "4e6c213d",
   "metadata": {},
   "source": [
    "### Here recall score we get 56% not so good."
   ]
  },
  {
   "cell_type": "code",
   "execution_count": 82,
   "id": "040c566f",
   "metadata": {},
   "outputs": [],
   "source": [
    "#Conclusion from all of the above algorithms DecisionTreeClassifier with entropy is best the recall score is 81%."
   ]
  }
 ],
 "metadata": {
  "kernelspec": {
   "display_name": "Python 3 (ipykernel)",
   "language": "python",
   "name": "python3"
  },
  "language_info": {
   "codemirror_mode": {
    "name": "ipython",
    "version": 3
   },
   "file_extension": ".py",
   "mimetype": "text/x-python",
   "name": "python",
   "nbconvert_exporter": "python",
   "pygments_lexer": "ipython3",
   "version": "3.9.12"
  }
 },
 "nbformat": 4,
 "nbformat_minor": 5
}
